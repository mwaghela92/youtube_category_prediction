{
 "cells": [
  {
   "cell_type": "code",
   "execution_count": 31,
   "metadata": {},
   "outputs": [],
   "source": [
    "import pandas as pd\n",
    "import re\n",
    "import numpy as np\n",
    "import nltk\n",
    "import pickle\n",
    "\n",
    "in_docker = 0"
   ]
  },
  {
   "cell_type": "code",
   "execution_count": 2,
   "metadata": {},
   "outputs": [],
   "source": [
    "if in_docker==0:\n",
    "    data = pd.read_csv('/Users/zeemee/Documents/python_projects/youtube/youtube_data/Youtube Video Dataset.csv')\n",
    "else:\n",
    "    data = pd.read_csv('/data/Youtube Video Dataset.csv')"
   ]
  },
  {
   "cell_type": "code",
   "execution_count": 3,
   "metadata": {},
   "outputs": [
    {
     "data": {
      "text/html": [
       "<div>\n",
       "<style scoped>\n",
       "    .dataframe tbody tr th:only-of-type {\n",
       "        vertical-align: middle;\n",
       "    }\n",
       "\n",
       "    .dataframe tbody tr th {\n",
       "        vertical-align: top;\n",
       "    }\n",
       "\n",
       "    .dataframe thead th {\n",
       "        text-align: right;\n",
       "    }\n",
       "</style>\n",
       "<table border=\"1\" class=\"dataframe\">\n",
       "  <thead>\n",
       "    <tr style=\"text-align: right;\">\n",
       "      <th></th>\n",
       "      <th>Title</th>\n",
       "      <th>Videourl</th>\n",
       "      <th>Category</th>\n",
       "      <th>Description</th>\n",
       "    </tr>\n",
       "  </thead>\n",
       "  <tbody>\n",
       "    <tr>\n",
       "      <th>0</th>\n",
       "      <td>Madagascar Street Food!!! Super RARE Malagasy ...</td>\n",
       "      <td>/watch?v=EwBA1fOQ96c</td>\n",
       "      <td>Food</td>\n",
       "      <td>🎥GIANT ALIEN SNAIL IN JAPAN! » https://youtu.b...</td>\n",
       "    </tr>\n",
       "    <tr>\n",
       "      <th>1</th>\n",
       "      <td>42 Foods You Need To Eat Before You Die</td>\n",
       "      <td>/watch?v=0SPwwpruGIA</td>\n",
       "      <td>Food</td>\n",
       "      <td>This is the ultimate must-try food bucket list...</td>\n",
       "    </tr>\n",
       "  </tbody>\n",
       "</table>\n",
       "</div>"
      ],
      "text/plain": [
       "                                               Title              Videourl  \\\n",
       "0  Madagascar Street Food!!! Super RARE Malagasy ...  /watch?v=EwBA1fOQ96c   \n",
       "1            42 Foods You Need To Eat Before You Die  /watch?v=0SPwwpruGIA   \n",
       "\n",
       "  Category                                        Description  \n",
       "0     Food  🎥GIANT ALIEN SNAIL IN JAPAN! » https://youtu.b...  \n",
       "1     Food  This is the ultimate must-try food bucket list...  "
      ]
     },
     "execution_count": 3,
     "metadata": {},
     "output_type": "execute_result"
    }
   ],
   "source": [
    "data.head(2)"
   ]
  },
  {
   "cell_type": "code",
   "execution_count": 4,
   "metadata": {},
   "outputs": [],
   "source": [
    "def process_sentences(sentence):\n",
    "    #convert sentence to string else return ''\n",
    "    try:\n",
    "        sentence = str(sentence)\n",
    "        #remove links (words containing 'http')\n",
    "        sentence = ' '.join([x for x in sentence.split(' ') if 'http' not in x])\n",
    "        #keep only letters and change to lower case\n",
    "        sentence = re.sub('[^a-zA-Z ]+', '', sentence).lower()\n",
    "        return sentence\n",
    "    except: \n",
    "        return ''"
   ]
  },
  {
   "cell_type": "code",
   "execution_count": 5,
   "metadata": {},
   "outputs": [],
   "source": [
    "#creating a column of ' ' to join title and description columns easily\n",
    "blank_list = [' ']* len(data)\n",
    "data['blank_list'] = blank_list\n",
    "#combining title and description column text into a single total_text column\n",
    "data['total_text'] = data['Title'] + data['blank_list'] + data['Description']\n",
    "\n",
    "for i in range(len(data)):\n",
    "    data.loc[i,'total_text'] = process_sentences(data.loc[i,'total_text'])\n",
    "    \n",
    "#keeping only required columns for training the model\n",
    "data_for_training = data[['Category','total_text']]  "
   ]
  },
  {
   "cell_type": "code",
   "execution_count": 6,
   "metadata": {},
   "outputs": [
    {
     "data": {
      "text/html": [
       "<div>\n",
       "<style scoped>\n",
       "    .dataframe tbody tr th:only-of-type {\n",
       "        vertical-align: middle;\n",
       "    }\n",
       "\n",
       "    .dataframe tbody tr th {\n",
       "        vertical-align: top;\n",
       "    }\n",
       "\n",
       "    .dataframe thead th {\n",
       "        text-align: right;\n",
       "    }\n",
       "</style>\n",
       "<table border=\"1\" class=\"dataframe\">\n",
       "  <thead>\n",
       "    <tr style=\"text-align: right;\">\n",
       "      <th></th>\n",
       "      <th>Category</th>\n",
       "      <th>total_text</th>\n",
       "    </tr>\n",
       "  </thead>\n",
       "  <tbody>\n",
       "    <tr>\n",
       "      <th>0</th>\n",
       "      <td>Food</td>\n",
       "      <td>madagascar street food super rare malagasy vil...</td>\n",
       "    </tr>\n",
       "    <tr>\n",
       "      <th>1</th>\n",
       "      <td>Food</td>\n",
       "      <td>foods you need to eat before you die this is ...</td>\n",
       "    </tr>\n",
       "    <tr>\n",
       "      <th>2</th>\n",
       "      <td>Food</td>\n",
       "      <td>gordon ramsays top  indian dishes we found  of...</td>\n",
       "    </tr>\n",
       "    <tr>\n",
       "      <th>3</th>\n",
       "      <td>Food</td>\n",
       "      <td>how to use chopsticks  in about a minute  your...</td>\n",
       "    </tr>\n",
       "    <tr>\n",
       "      <th>4</th>\n",
       "      <td>Food</td>\n",
       "      <td>trying indian food st time help support sinstv...</td>\n",
       "    </tr>\n",
       "    <tr>\n",
       "      <th>...</th>\n",
       "      <td>...</td>\n",
       "      <td>...</td>\n",
       "    </tr>\n",
       "    <tr>\n",
       "      <th>11206</th>\n",
       "      <td>Art&amp;Music</td>\n",
       "      <td>art journal  shimmer sprays stencils collage a...</td>\n",
       "    </tr>\n",
       "    <tr>\n",
       "      <th>11207</th>\n",
       "      <td>Art&amp;Music</td>\n",
       "      <td>artea collage  mixed media art by ilene mcinne...</td>\n",
       "    </tr>\n",
       "    <tr>\n",
       "      <th>11208</th>\n",
       "      <td>Art&amp;Music</td>\n",
       "      <td>diy mixed media art collage greeting cards  mi...</td>\n",
       "    </tr>\n",
       "    <tr>\n",
       "      <th>11209</th>\n",
       "      <td>Art&amp;Music</td>\n",
       "      <td>art collage process decojournal using rice pap...</td>\n",
       "    </tr>\n",
       "    <tr>\n",
       "      <th>11210</th>\n",
       "      <td>Art&amp;Music</td>\n",
       "      <td>journal collage process using magazine cut out...</td>\n",
       "    </tr>\n",
       "  </tbody>\n",
       "</table>\n",
       "<p>11211 rows × 2 columns</p>\n",
       "</div>"
      ],
      "text/plain": [
       "        Category                                         total_text\n",
       "0           Food  madagascar street food super rare malagasy vil...\n",
       "1           Food   foods you need to eat before you die this is ...\n",
       "2           Food  gordon ramsays top  indian dishes we found  of...\n",
       "3           Food  how to use chopsticks  in about a minute  your...\n",
       "4           Food  trying indian food st time help support sinstv...\n",
       "...          ...                                                ...\n",
       "11206  Art&Music  art journal  shimmer sprays stencils collage a...\n",
       "11207  Art&Music  artea collage  mixed media art by ilene mcinne...\n",
       "11208  Art&Music  diy mixed media art collage greeting cards  mi...\n",
       "11209  Art&Music  art collage process decojournal using rice pap...\n",
       "11210  Art&Music  journal collage process using magazine cut out...\n",
       "\n",
       "[11211 rows x 2 columns]"
      ]
     },
     "execution_count": 6,
     "metadata": {},
     "output_type": "execute_result"
    }
   ],
   "source": [
    "data_for_training"
   ]
  },
  {
   "cell_type": "code",
   "execution_count": 7,
   "metadata": {},
   "outputs": [
    {
     "data": {
      "image/png": "[encoded data removed]",
      "text/plain": [
       "<Figure size 576x432 with 1 Axes>"
      ]
     },
     "metadata": {
      "needs_background": "light"
     },
     "output_type": "display_data"
    }
   ],
   "source": [
    "import matplotlib.pyplot as plt\n",
    "fig = plt.figure(figsize=(8,6))\n",
    "data_for_training.groupby('Category').total_text.count().plot.bar(ylim=0)\n",
    "plt.show()"
   ]
  },
  {
   "cell_type": "code",
   "execution_count": 9,
   "metadata": {},
   "outputs": [],
   "source": [
    "from sklearn.model_selection import train_test_split\n",
    "from sklearn.feature_extraction.text import CountVectorizer\n",
    "from sklearn.feature_extraction.text import TfidfTransformer\n",
    "from sklearn.naive_bayes import MultinomialNB\n",
    "\n",
    "X_train, X_test, y_train, y_test = train_test_split(data_for_training['total_text'], \n",
    "                                                    data_for_training['Category'], random_state = 0)\n",
    "count_vect = CountVectorizer()\n",
    "X_train_counts = count_vect.fit_transform(X_train)\n",
    "tfidf_transformer = TfidfTransformer()\n",
    "X_train_tfidf = tfidf_transformer.fit_transform(X_train_counts)\n",
    "clf = MultinomialNB().fit(X_train_tfidf, y_train)"
   ]
  },
  {
   "cell_type": "code",
   "execution_count": 27,
   "metadata": {},
   "outputs": [],
   "source": [
    "pred = clf.predict(X_test)"
   ]
  },
  {
   "cell_type": "code",
   "execution_count": 29,
   "metadata": {},
   "outputs": [
    {
     "data": {
      "text/plain": [
       "0.8073492686407421"
      ]
     },
     "execution_count": 29,
     "metadata": {},
     "output_type": "execute_result"
    }
   ],
   "source": [
    "from sklearn.metrics import accuracy_score\n",
    "accuracy_score(y_test, pred)"
   ]
  },
  {
   "cell_type": "code",
   "execution_count": 34,
   "metadata": {},
   "outputs": [],
   "source": [
    "filename = 'trained_model.sav'\n",
    "if in_docker==0:\n",
    "    pickle.dump(clf, open('/Users/zeemee/Documents/python_projects/youtube/youtube_code/'+ filename, 'wb'))\n",
    "else:\n",
    "    pickle.dump(clf, open('code' + filename, 'wb'))"
   ]
  },
  {
   "cell_type": "code",
   "execution_count": 55,
   "metadata": {},
   "outputs": [],
   "source": [
    "filename = 'vectorizer_file.sav'\n",
    "if in_docker==0:\n",
    "    pickle.dump(count_vect, open('/Users/zeemee/Documents/python_projects/youtube/youtube_code/'+ filename, 'wb'))\n",
    "else:\n",
    "    pickle.dump(count_vect, open('code' + filename, 'wb'))"
   ]
  },
  {
   "cell_type": "code",
   "execution_count": 54,
   "metadata": {},
   "outputs": [
    {
     "data": {
      "text/plain": [
       "array(['Science&Technology'], dtype='<U18')"
      ]
     },
     "execution_count": 54,
     "metadata": {},
     "output_type": "execute_result"
    }
   ],
   "source": [
    "my_sent = [\"\"\"\n",
    "Getting your music promoted in blogs acts as a springboard to other areas such as Spotify Editorial playlists, radio coverage and even securing live events but sometimes the online promotion process can seem quite overwhelming, so this video should help!\n",
    "\n",
    "Here is a tutorial on how to get your music placed in high readership blogs, from writing the press release, to getting featured in your dream publication.\n",
    "\n",
    "Follow us:\n",
    "Instagram: @Burstimo\n",
    "Twitter: @BurstimoMusic\n",
    "Facebook: @Burstimo\n",
    "\"\"\"]\n",
    "clf.predict(count_vect.transform([process_sentences(my_sent)]))"
   ]
  }
 ],
 "metadata": {
  "kernelspec": {
   "display_name": "Python 3",
   "language": "python",
   "name": "python3"
  },
  "language_info": {
   "codemirror_mode": {
    "name": "ipython",
    "version": 3
   },
   "file_extension": ".py",
   "mimetype": "text/x-python",
   "name": "python",
   "nbconvert_exporter": "python",
   "pygments_lexer": "ipython3",
   "version": "3.7.6"
  }
 },
 "nbformat": 4,
 "nbformat_minor": 4
}
